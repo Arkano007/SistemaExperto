{
 "cells": [
  {
   "cell_type": "markdown",
   "metadata": {},
   "source": [
    "## Analizador Lexico\n",
    "Un analizador lexico transforma una entrada en tokens"
   ]
  },
  {
   "cell_type": "code",
   "execution_count": 2,
   "metadata": {},
   "outputs": [],
   "source": [
    "entrada = \"Si si es de dia entonces mañana no es de noche\""
   ]
  },
  {
   "cell_type": "code",
   "execution_count": 6,
   "metadata": {},
   "outputs": [],
   "source": [
    "from enum import Enum\n",
    "\n",
    "class TipoToken(Enum):\n",
    "    O = 1\n",
    "    Y = 2\n",
    "    S = 3\n",
    "    N = 4\n",
    "    E = 5\n",
    "    P = 6"
   ]
  },
  {
   "cell_type": "code",
   "execution_count": 7,
   "metadata": {},
   "outputs": [
    {
     "name": "stdout",
     "output_type": "stream",
     "text": [
      "[{'valor': 'si', 'tipo': <TipoToken.S: 3>}, {'valor': 'si', 'tipo': <TipoToken.S: 3>}, {'valor': 'es', 'tipo': <TipoToken.P: 6>}, {'valor': 'de', 'tipo': <TipoToken.P: 6>}, {'valor': 'dia', 'tipo': <TipoToken.P: 6>}, {'valor': 'entonces', 'tipo': <TipoToken.E: 5>}, {'valor': 'mañana', 'tipo': <TipoToken.P: 6>}, {'valor': 'no', 'tipo': <TipoToken.N: 4>}, {'valor': 'es', 'tipo': <TipoToken.P: 6>}, {'valor': 'de', 'tipo': <TipoToken.P: 6>}, {'valor': 'noche', 'tipo': <TipoToken.P: 6>}]\n"
     ]
    }
   ],
   "source": [
    "\n",
    "def analizador_lexico(entrada : str) -> list:\n",
    "    # Separar cadena en palabras\n",
    "    tokens = entrada.lower().split()\n",
    "    \n",
    "    # Etiquetar cada palabra con su respectivo tipo de token\n",
    "    lexemas = []\n",
    "    for token in tokens:\n",
    "        if token == 'o':\n",
    "            lexemas.append({\"valor\" : token , \"tipo\": TipoToken.O })\n",
    "        elif token == 'y':\n",
    "            lexemas.append({\"valor\" : token , \"tipo\": TipoToken.Y})\n",
    "        elif token == 'si':\n",
    "            lexemas.append({\"valor\" : token , \"tipo\": TipoToken.S})\n",
    "        elif token == 'entonces':\n",
    "            lexemas.append({\"valor\" : token , \"tipo\": TipoToken.E})\n",
    "        elif token == 'no':\n",
    "            lexemas.append({\"valor\" : token , \"tipo\": TipoToken.N})\n",
    "        else :\n",
    "            lexemas.append({\"valor\" :token , \"tipo\": TipoToken.P })\n",
    "            \n",
    "    return lexemas\n",
    "\n",
    "result = analizador_lexico(entrada)\n",
    "print(result)"
   ]
  },
  {
   "cell_type": "code",
   "execution_count": 10,
   "metadata": {
    "vscode": {
     "languageId": "javascript"
    }
   },
   "outputs": [
    {
     "data": {
      "text/plain": [
       "[{'valor': 'si', 'tipo': <TipoToken.S: 3>},\n",
       " {'valor': 'si', 'tipo': <TipoToken.S: 3>},\n",
       " {'valor': 'es', 'tipo': <TipoToken.P: 6>},\n",
       " {'valor': 'de', 'tipo': <TipoToken.P: 6>},\n",
       " {'valor': 'dia', 'tipo': <TipoToken.P: 6>},\n",
       " {'valor': 'entonces', 'tipo': <TipoToken.E: 5>},\n",
       " {'valor': 'mañana', 'tipo': <TipoToken.P: 6>},\n",
       " {'valor': 'no', 'tipo': <TipoToken.N: 4>},\n",
       " {'valor': 'es', 'tipo': <TipoToken.P: 6>},\n",
       " {'valor': 'de', 'tipo': <TipoToken.P: 6>},\n",
       " {'valor': 'noche', 'tipo': <TipoToken.P: 6>}]"
      ]
     },
     "execution_count": 10,
     "metadata": {},
     "output_type": "execute_result"
    }
   ],
   "source": []
  },
  {
   "cell_type": "code",
   "execution_count": null,
   "metadata": {
    "vscode": {
     "languageId": "javascript"
    }
   },
   "outputs": [],
   "source": []
  },
  {
   "cell_type": "markdown",
   "metadata": {},
   "source": [
    "## Analizador Sintactico"
   ]
  },
  {
   "cell_type": "markdown",
   "metadata": {},
   "source": []
  },
  {
   "cell_type": "code",
   "execution_count": 11,
   "metadata": {},
   "outputs": [],
   "source": [
    "class EstadosAnalizador(Enum):\n",
    "    INICIO = 1\n",
    "    PRECEDENTE = 2\n",
    "    ERROR1 = 3\n",
    "    NEGACION = 4\n",
    "    CONSECUENTE = 5\n",
    "    ATOMO = 6\n",
    "    DISYUNCION = 7\n",
    "    CONJUNCION = 8\n",
    "    ERROR2 = 9\n",
    "    FIN = 10"
   ]
  },
  {
   "cell_type": "code",
   "execution_count": 12,
   "metadata": {},
   "outputs": [],
   "source": [
    "EstadoActual = EstadosAnalizador.INICIO\n",
    "\n",
    "for lexema in lexemas:\n",
    "    if EstadoActual == EstadosAnalizador.INICIO:\n",
    "        if lexema == \"si\":\n",
    "            EstadoActual = EstadosAnalizador.PRECEDENTE\n",
    "        else:\n",
    "            EstadoActual = EstadosAnalizador.ERROR1\n",
    "    elif EstadoActual == EstadosAnalizador.PRECEDENTE:\n",
    "        if lexema == \"no\":\n",
    "            EstadoActual = EstadosAnalizador.NEGACION\n",
    "        elif lexema == \"es\":\n",
    "            EstadoActual = EstadosAnalizador.CONSECUENTE\n",
    "        else:\n",
    "            EstadoActual = EstadosAnalizador.ERROR2\n",
    "    elif EstadoActual == EstadosAnalizador.NEGACION:\n",
    "        if lexema == \"de\":\n",
    "            EstadoActual = EstadosAnalizador.ATOMO\n",
    "        else:\n",
    "            EstadoActual = EstadosAnalizador.ERROR2\n",
    "    elif EstadoActual == EstadosAnalizador.CONSECUENTE:\n",
    "        if lexema == \"de\":\n",
    "            EstadoActual = EstadosAnalizador.ATOMO\n",
    "        else:\n",
    "            EstadoActual = EstadosAnalizador.ERROR2\n",
    "    elif EstadoActual == EstadosAnalizador.ATOMO:\n",
    "        if lexema == \"entonces\":\n",
    "            EstadoActual = EstadosAnalizador.FIN\n",
    "        elif lexema == \"y\":\n",
    "            EstadoActual = EstadosAnalizador.CONJUNCION\n",
    "        elif lexema == \"o\":\n",
    "            EstadoActual = EstadosAnalizador.DISYUNCION\n",
    "        else:\n",
    "            EstadoActual = EstadosAnalizador.ERROR2\n",
    "    elif EstadoActual == EstadosAnalizador.CONJUNCION:\n",
    "        if lexema == \"de\":\n",
    "            EstadoActual = EstadosAnalizador.ATOMO\n",
    "        else:\n",
    "            EstadoActual = EstadosAnalizador.ERROR2\n",
    "    elif EstadoActual == EstadosAnalizador.DISYUNCION:\n",
    "        if lexema == \"de\":\n",
    "            EstadoActual = EstadosAnalizador.ATOMO\n",
    "        else:\n",
    "            EstadoActual = EstadosAnalizador.ERROR2\n",
    "    elif EstadoActual == EstadosAnalizador.ERROR1:\n",
    "        break\n",
    "    elif EstadoActual == EstadosAnalizador.ERROR2:\n",
    "        break\n",
    "    elif EstadoActual == EstadosAnalizador.FIN:\n",
    "        break"
   ]
  },
  {
   "cell_type": "code",
   "execution_count": 13,
   "metadata": {},
   "outputs": [
    {
     "name": "stdout",
     "output_type": "stream",
     "text": [
      "EstadosAnalizador.ERROR1\n"
     ]
    }
   ],
   "source": [
    "print(EstadoActual)"
   ]
  },
  {
   "cell_type": "code",
   "execution_count": null,
   "metadata": {},
   "outputs": [],
   "source": [
    "    "
   ]
  }
 ],
 "metadata": {
  "kernelspec": {
   "display_name": ".venv",
   "language": "python",
   "name": "python3"
  },
  "language_info": {
   "codemirror_mode": {
    "name": "ipython",
    "version": 3
   },
   "file_extension": ".py",
   "mimetype": "text/x-python",
   "name": "python",
   "nbconvert_exporter": "python",
   "pygments_lexer": "ipython3",
   "version": "3.11.8"
  }
 },
 "nbformat": 4,
 "nbformat_minor": 2
}
